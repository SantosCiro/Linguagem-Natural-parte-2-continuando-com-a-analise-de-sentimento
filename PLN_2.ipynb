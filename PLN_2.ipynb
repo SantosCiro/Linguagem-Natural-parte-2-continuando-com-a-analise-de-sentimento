{
  "cells": [
    {
      "cell_type": "markdown",
      "metadata": {
        "id": "VRm__cWJ-3V5"
      },
      "source": [
        "## Introdução ao Processamento de Linguagem Natural com Python (Parte 1)\n",
        "\n",
        "###Explorando e vetorizando dados textuais."
      ]
    },
    {
      "cell_type": "code",
      "execution_count": 189,
      "metadata": {
        "id": "uyLldsoOUCqD"
      },
      "outputs": [],
      "source": [
        "import pandas as pd\n",
        "\n",
        "resenha = pd.read_csv(\"imdb-reviews-pt-br.csv\")\n"
      ]
    },
    {
      "cell_type": "code",
      "source": [
        "resenha"
      ],
      "metadata": {
        "colab": {
          "base_uri": "https://localhost:8080/",
          "height": 641
        },
        "id": "PTX3BwvjNA5p",
        "outputId": "9cb99230-ffd1-464f-c8a0-7ba074fc0d1a"
      },
      "execution_count": 190,
      "outputs": [
        {
          "output_type": "execute_result",
          "data": {
            "text/plain": [
              "          id                                            text_en  \\\n",
              "0          1  Once again Mr. Costner has dragged out a movie...   \n",
              "1          2  This is an example of why the majority of acti...   \n",
              "2          3  First of all I hate those moronic rappers, who...   \n",
              "3          4  Not even the Beatles could write songs everyon...   \n",
              "4          5  Brass pictures movies is not a fitting word fo...   \n",
              "...      ...                                                ...   \n",
              "49454  49456  Seeing as the vote average was pretty low, and...   \n",
              "49455  49457  The plot had some wretched, unbelievable twist...   \n",
              "49456  49458  I am amazed at how this movieand most others h...   \n",
              "49457  49459  A Christmas Together actually came before my t...   \n",
              "49458  49460  Working-class romantic drama from director Mar...   \n",
              "\n",
              "                                                 text_pt sentiment  \n",
              "0      Mais uma vez, o Sr. Costner arrumou um filme p...       neg  \n",
              "1      Este é um exemplo do motivo pelo qual a maiori...       neg  \n",
              "2      Primeiro de tudo eu odeio esses raps imbecis, ...       neg  \n",
              "3      Nem mesmo os Beatles puderam escrever músicas ...       neg  \n",
              "4      Filmes de fotos de latão não é uma palavra apr...       neg  \n",
              "...                                                  ...       ...  \n",
              "49454  Como a média de votos era muito baixa, e o fat...       pos  \n",
              "49455  O enredo teve algumas reviravoltas infelizes e...       pos  \n",
              "49456  Estou espantado com a forma como este filme e ...       pos  \n",
              "49457  A Christmas Together realmente veio antes do m...       pos  \n",
              "49458  O drama romântico da classe trabalhadora do di...       pos  \n",
              "\n",
              "[49459 rows x 4 columns]"
            ],
            "text/html": [
              "\n",
              "  <div id=\"df-d80fd8da-ee97-4dd2-9324-d81ebb80054d\">\n",
              "    <div class=\"colab-df-container\">\n",
              "      <div>\n",
              "<style scoped>\n",
              "    .dataframe tbody tr th:only-of-type {\n",
              "        vertical-align: middle;\n",
              "    }\n",
              "\n",
              "    .dataframe tbody tr th {\n",
              "        vertical-align: top;\n",
              "    }\n",
              "\n",
              "    .dataframe thead th {\n",
              "        text-align: right;\n",
              "    }\n",
              "</style>\n",
              "<table border=\"1\" class=\"dataframe\">\n",
              "  <thead>\n",
              "    <tr style=\"text-align: right;\">\n",
              "      <th></th>\n",
              "      <th>id</th>\n",
              "      <th>text_en</th>\n",
              "      <th>text_pt</th>\n",
              "      <th>sentiment</th>\n",
              "    </tr>\n",
              "  </thead>\n",
              "  <tbody>\n",
              "    <tr>\n",
              "      <th>0</th>\n",
              "      <td>1</td>\n",
              "      <td>Once again Mr. Costner has dragged out a movie...</td>\n",
              "      <td>Mais uma vez, o Sr. Costner arrumou um filme p...</td>\n",
              "      <td>neg</td>\n",
              "    </tr>\n",
              "    <tr>\n",
              "      <th>1</th>\n",
              "      <td>2</td>\n",
              "      <td>This is an example of why the majority of acti...</td>\n",
              "      <td>Este é um exemplo do motivo pelo qual a maiori...</td>\n",
              "      <td>neg</td>\n",
              "    </tr>\n",
              "    <tr>\n",
              "      <th>2</th>\n",
              "      <td>3</td>\n",
              "      <td>First of all I hate those moronic rappers, who...</td>\n",
              "      <td>Primeiro de tudo eu odeio esses raps imbecis, ...</td>\n",
              "      <td>neg</td>\n",
              "    </tr>\n",
              "    <tr>\n",
              "      <th>3</th>\n",
              "      <td>4</td>\n",
              "      <td>Not even the Beatles could write songs everyon...</td>\n",
              "      <td>Nem mesmo os Beatles puderam escrever músicas ...</td>\n",
              "      <td>neg</td>\n",
              "    </tr>\n",
              "    <tr>\n",
              "      <th>4</th>\n",
              "      <td>5</td>\n",
              "      <td>Brass pictures movies is not a fitting word fo...</td>\n",
              "      <td>Filmes de fotos de latão não é uma palavra apr...</td>\n",
              "      <td>neg</td>\n",
              "    </tr>\n",
              "    <tr>\n",
              "      <th>...</th>\n",
              "      <td>...</td>\n",
              "      <td>...</td>\n",
              "      <td>...</td>\n",
              "      <td>...</td>\n",
              "    </tr>\n",
              "    <tr>\n",
              "      <th>49454</th>\n",
              "      <td>49456</td>\n",
              "      <td>Seeing as the vote average was pretty low, and...</td>\n",
              "      <td>Como a média de votos era muito baixa, e o fat...</td>\n",
              "      <td>pos</td>\n",
              "    </tr>\n",
              "    <tr>\n",
              "      <th>49455</th>\n",
              "      <td>49457</td>\n",
              "      <td>The plot had some wretched, unbelievable twist...</td>\n",
              "      <td>O enredo teve algumas reviravoltas infelizes e...</td>\n",
              "      <td>pos</td>\n",
              "    </tr>\n",
              "    <tr>\n",
              "      <th>49456</th>\n",
              "      <td>49458</td>\n",
              "      <td>I am amazed at how this movieand most others h...</td>\n",
              "      <td>Estou espantado com a forma como este filme e ...</td>\n",
              "      <td>pos</td>\n",
              "    </tr>\n",
              "    <tr>\n",
              "      <th>49457</th>\n",
              "      <td>49459</td>\n",
              "      <td>A Christmas Together actually came before my t...</td>\n",
              "      <td>A Christmas Together realmente veio antes do m...</td>\n",
              "      <td>pos</td>\n",
              "    </tr>\n",
              "    <tr>\n",
              "      <th>49458</th>\n",
              "      <td>49460</td>\n",
              "      <td>Working-class romantic drama from director Mar...</td>\n",
              "      <td>O drama romântico da classe trabalhadora do di...</td>\n",
              "      <td>pos</td>\n",
              "    </tr>\n",
              "  </tbody>\n",
              "</table>\n",
              "<p>49459 rows × 4 columns</p>\n",
              "</div>\n",
              "      <button class=\"colab-df-convert\" onclick=\"convertToInteractive('df-d80fd8da-ee97-4dd2-9324-d81ebb80054d')\"\n",
              "              title=\"Convert this dataframe to an interactive table.\"\n",
              "              style=\"display:none;\">\n",
              "        \n",
              "  <svg xmlns=\"http://www.w3.org/2000/svg\" height=\"24px\"viewBox=\"0 0 24 24\"\n",
              "       width=\"24px\">\n",
              "    <path d=\"M0 0h24v24H0V0z\" fill=\"none\"/>\n",
              "    <path d=\"M18.56 5.44l.94 2.06.94-2.06 2.06-.94-2.06-.94-.94-2.06-.94 2.06-2.06.94zm-11 1L8.5 8.5l.94-2.06 2.06-.94-2.06-.94L8.5 2.5l-.94 2.06-2.06.94zm10 10l.94 2.06.94-2.06 2.06-.94-2.06-.94-.94-2.06-.94 2.06-2.06.94z\"/><path d=\"M17.41 7.96l-1.37-1.37c-.4-.4-.92-.59-1.43-.59-.52 0-1.04.2-1.43.59L10.3 9.45l-7.72 7.72c-.78.78-.78 2.05 0 2.83L4 21.41c.39.39.9.59 1.41.59.51 0 1.02-.2 1.41-.59l7.78-7.78 2.81-2.81c.8-.78.8-2.07 0-2.86zM5.41 20L4 18.59l7.72-7.72 1.47 1.35L5.41 20z\"/>\n",
              "  </svg>\n",
              "      </button>\n",
              "      \n",
              "  <style>\n",
              "    .colab-df-container {\n",
              "      display:flex;\n",
              "      flex-wrap:wrap;\n",
              "      gap: 12px;\n",
              "    }\n",
              "\n",
              "    .colab-df-convert {\n",
              "      background-color: #E8F0FE;\n",
              "      border: none;\n",
              "      border-radius: 50%;\n",
              "      cursor: pointer;\n",
              "      display: none;\n",
              "      fill: #1967D2;\n",
              "      height: 32px;\n",
              "      padding: 0 0 0 0;\n",
              "      width: 32px;\n",
              "    }\n",
              "\n",
              "    .colab-df-convert:hover {\n",
              "      background-color: #E2EBFA;\n",
              "      box-shadow: 0px 1px 2px rgba(60, 64, 67, 0.3), 0px 1px 3px 1px rgba(60, 64, 67, 0.15);\n",
              "      fill: #174EA6;\n",
              "    }\n",
              "\n",
              "    [theme=dark] .colab-df-convert {\n",
              "      background-color: #3B4455;\n",
              "      fill: #D2E3FC;\n",
              "    }\n",
              "\n",
              "    [theme=dark] .colab-df-convert:hover {\n",
              "      background-color: #434B5C;\n",
              "      box-shadow: 0px 1px 3px 1px rgba(0, 0, 0, 0.15);\n",
              "      filter: drop-shadow(0px 1px 2px rgba(0, 0, 0, 0.3));\n",
              "      fill: #FFFFFF;\n",
              "    }\n",
              "  </style>\n",
              "\n",
              "      <script>\n",
              "        const buttonEl =\n",
              "          document.querySelector('#df-d80fd8da-ee97-4dd2-9324-d81ebb80054d button.colab-df-convert');\n",
              "        buttonEl.style.display =\n",
              "          google.colab.kernel.accessAllowed ? 'block' : 'none';\n",
              "\n",
              "        async function convertToInteractive(key) {\n",
              "          const element = document.querySelector('#df-d80fd8da-ee97-4dd2-9324-d81ebb80054d');\n",
              "          const dataTable =\n",
              "            await google.colab.kernel.invokeFunction('convertToInteractive',\n",
              "                                                     [key], {});\n",
              "          if (!dataTable) return;\n",
              "\n",
              "          const docLinkHtml = 'Like what you see? Visit the ' +\n",
              "            '<a target=\"_blank\" href=https://colab.research.google.com/notebooks/data_table.ipynb>data table notebook</a>'\n",
              "            + ' to learn more about interactive tables.';\n",
              "          element.innerHTML = '';\n",
              "          dataTable['output_type'] = 'display_data';\n",
              "          await google.colab.output.renderOutput(dataTable, element);\n",
              "          const docLink = document.createElement('div');\n",
              "          docLink.innerHTML = docLinkHtml;\n",
              "          element.appendChild(docLink);\n",
              "        }\n",
              "      </script>\n",
              "    </div>\n",
              "  </div>\n",
              "  "
            ]
          },
          "metadata": {},
          "execution_count": 190
        }
      ]
    },
    {
      "cell_type": "code",
      "source": [
        "print(\"Negativo\\n\")\n",
        "print(resenha[\"text_pt\"][200])"
      ],
      "metadata": {
        "colab": {
          "base_uri": "https://localhost:8080/"
        },
        "id": "G1is256WNFvW",
        "outputId": "6bd8a263-ac0d-40a8-ff86-d1fd73513325"
      },
      "execution_count": 191,
      "outputs": [
        {
          "output_type": "stream",
          "name": "stdout",
          "text": [
            "Negativo\n",
            "\n",
            "Este é o terceiro filme em um mês que eu assisti que não saiu do jeito que eu esperava. Os dois primeiros são A Dália Negra e Hollywoodland, nenhum dos quais deu novas idéias de quem cometeu os crimes. Eu sempre tive um fascínio com OVNIs e estava tão empolgado para ver um novo filme sobre o tema da investigação sobre OVNIs que não era um comédia. Mas depois de 30 minutos, tudo deu muito errado. Eu poderia ter defendido a atuação, os ângulos de câmera, os estereótipos se houvesse uma boa história sobre perseguir OVNIs, mas nenhum aqui. Eu não estou dizendo que havia algo de errado com o assunto, mas Netflix empurrou este filme como um cético OVNI e um crente de OVNI investigando vários sitations.I parou de assistir a meio caminho. Não posso acreditar que perdi tanto tempo com este. Por favor, não cometa o mesmo erro que eu fiz.\n"
          ]
        }
      ]
    },
    {
      "cell_type": "code",
      "source": [
        "print(\"Positivo\\n\")\n",
        "print(resenha[\"text_pt\"][49002])"
      ],
      "metadata": {
        "colab": {
          "base_uri": "https://localhost:8080/"
        },
        "id": "ntDpvUzfNJop",
        "outputId": "3f229dc0-032f-410f-e432-1dba0f1cffbe"
      },
      "execution_count": 192,
      "outputs": [
        {
          "output_type": "stream",
          "name": "stdout",
          "text": [
            "Positivo\n",
            "\n",
            "Crescendo em Nova York no final dos anos 80 e início dos anos 90, posso dizer pessoalmente que este é um dos documentários mais importantes feitos para cobrir esse lugar neste período de tempo. Não Madonna não veio com a idéia de Voguing, mas é de onde ela tirou! Em vez de combater a violência uns dos outros ou em brigas de gato, o voguing permitia que as pessoas \"lutassem\" dentro dos confins de tudo, menos que tocassem umas às outras, o que justificaria uma desqualificação automática. Vendo este tipo de extraordinariamente talentosas / bem orquestradas \"jogadas\" nos clubes foi nada menos do que espetacular e todos os grandes nomes de antigamente estão aqui ... Pepper La Beija, Paris Duprée, Xtragavaganza, etc. ..tudo comemorado nos gostos de peças de época como a música de Malcom McLarens \"Deep in Vogue\" ... não importava quem você era, ou de onde você era porque quando você passava por aquelas portas nesse \"reino mágico\" de De certa forma, você se tornou parte de algo maior que você / você era importante / e, o mais importante, a criação de seus próprios movimentos e imaginação ... e qualquer pessoa de qualquer lugar poderia se tornar Rei ou Rainha como poderia ter sido. As palavras e inteligência eram tão afiadas quanto os movimentos no chão. Toda a tensão, excitação e magia dessa energia urbana de NYC é capturada neste filme. BRILHANTE!!! POR FAVOR, LIBERE EM DVD para o mundo ver !!! Obrigado!\n"
          ]
        }
      ]
    },
    {
      "cell_type": "code",
      "source": [
        "classificacao = resenha[\"sentiment\"].replace([\"neg\", \"pos\"],[0, 1])"
      ],
      "metadata": {
        "id": "1CDvaO0rNPlD"
      },
      "execution_count": 193,
      "outputs": []
    },
    {
      "cell_type": "code",
      "source": [
        "resenha[\"classificacao\"] = classificacao\n",
        "resenha.head()"
      ],
      "metadata": {
        "colab": {
          "base_uri": "https://localhost:8080/",
          "height": 354
        },
        "id": "E48F3DWoNT0P",
        "outputId": "abda3636-9f7e-4862-db4d-4e0904998393"
      },
      "execution_count": 194,
      "outputs": [
        {
          "output_type": "execute_result",
          "data": {
            "text/plain": [
              "   id                                            text_en  \\\n",
              "0   1  Once again Mr. Costner has dragged out a movie...   \n",
              "1   2  This is an example of why the majority of acti...   \n",
              "2   3  First of all I hate those moronic rappers, who...   \n",
              "3   4  Not even the Beatles could write songs everyon...   \n",
              "4   5  Brass pictures movies is not a fitting word fo...   \n",
              "\n",
              "                                             text_pt sentiment  classificacao  \n",
              "0  Mais uma vez, o Sr. Costner arrumou um filme p...       neg              0  \n",
              "1  Este é um exemplo do motivo pelo qual a maiori...       neg              0  \n",
              "2  Primeiro de tudo eu odeio esses raps imbecis, ...       neg              0  \n",
              "3  Nem mesmo os Beatles puderam escrever músicas ...       neg              0  \n",
              "4  Filmes de fotos de latão não é uma palavra apr...       neg              0  "
            ],
            "text/html": [
              "\n",
              "  <div id=\"df-2ef48664-3b13-4892-8afb-b15b6a9dd7c5\">\n",
              "    <div class=\"colab-df-container\">\n",
              "      <div>\n",
              "<style scoped>\n",
              "    .dataframe tbody tr th:only-of-type {\n",
              "        vertical-align: middle;\n",
              "    }\n",
              "\n",
              "    .dataframe tbody tr th {\n",
              "        vertical-align: top;\n",
              "    }\n",
              "\n",
              "    .dataframe thead th {\n",
              "        text-align: right;\n",
              "    }\n",
              "</style>\n",
              "<table border=\"1\" class=\"dataframe\">\n",
              "  <thead>\n",
              "    <tr style=\"text-align: right;\">\n",
              "      <th></th>\n",
              "      <th>id</th>\n",
              "      <th>text_en</th>\n",
              "      <th>text_pt</th>\n",
              "      <th>sentiment</th>\n",
              "      <th>classificacao</th>\n",
              "    </tr>\n",
              "  </thead>\n",
              "  <tbody>\n",
              "    <tr>\n",
              "      <th>0</th>\n",
              "      <td>1</td>\n",
              "      <td>Once again Mr. Costner has dragged out a movie...</td>\n",
              "      <td>Mais uma vez, o Sr. Costner arrumou um filme p...</td>\n",
              "      <td>neg</td>\n",
              "      <td>0</td>\n",
              "    </tr>\n",
              "    <tr>\n",
              "      <th>1</th>\n",
              "      <td>2</td>\n",
              "      <td>This is an example of why the majority of acti...</td>\n",
              "      <td>Este é um exemplo do motivo pelo qual a maiori...</td>\n",
              "      <td>neg</td>\n",
              "      <td>0</td>\n",
              "    </tr>\n",
              "    <tr>\n",
              "      <th>2</th>\n",
              "      <td>3</td>\n",
              "      <td>First of all I hate those moronic rappers, who...</td>\n",
              "      <td>Primeiro de tudo eu odeio esses raps imbecis, ...</td>\n",
              "      <td>neg</td>\n",
              "      <td>0</td>\n",
              "    </tr>\n",
              "    <tr>\n",
              "      <th>3</th>\n",
              "      <td>4</td>\n",
              "      <td>Not even the Beatles could write songs everyon...</td>\n",
              "      <td>Nem mesmo os Beatles puderam escrever músicas ...</td>\n",
              "      <td>neg</td>\n",
              "      <td>0</td>\n",
              "    </tr>\n",
              "    <tr>\n",
              "      <th>4</th>\n",
              "      <td>5</td>\n",
              "      <td>Brass pictures movies is not a fitting word fo...</td>\n",
              "      <td>Filmes de fotos de latão não é uma palavra apr...</td>\n",
              "      <td>neg</td>\n",
              "      <td>0</td>\n",
              "    </tr>\n",
              "  </tbody>\n",
              "</table>\n",
              "</div>\n",
              "      <button class=\"colab-df-convert\" onclick=\"convertToInteractive('df-2ef48664-3b13-4892-8afb-b15b6a9dd7c5')\"\n",
              "              title=\"Convert this dataframe to an interactive table.\"\n",
              "              style=\"display:none;\">\n",
              "        \n",
              "  <svg xmlns=\"http://www.w3.org/2000/svg\" height=\"24px\"viewBox=\"0 0 24 24\"\n",
              "       width=\"24px\">\n",
              "    <path d=\"M0 0h24v24H0V0z\" fill=\"none\"/>\n",
              "    <path d=\"M18.56 5.44l.94 2.06.94-2.06 2.06-.94-2.06-.94-.94-2.06-.94 2.06-2.06.94zm-11 1L8.5 8.5l.94-2.06 2.06-.94-2.06-.94L8.5 2.5l-.94 2.06-2.06.94zm10 10l.94 2.06.94-2.06 2.06-.94-2.06-.94-.94-2.06-.94 2.06-2.06.94z\"/><path d=\"M17.41 7.96l-1.37-1.37c-.4-.4-.92-.59-1.43-.59-.52 0-1.04.2-1.43.59L10.3 9.45l-7.72 7.72c-.78.78-.78 2.05 0 2.83L4 21.41c.39.39.9.59 1.41.59.51 0 1.02-.2 1.41-.59l7.78-7.78 2.81-2.81c.8-.78.8-2.07 0-2.86zM5.41 20L4 18.59l7.72-7.72 1.47 1.35L5.41 20z\"/>\n",
              "  </svg>\n",
              "      </button>\n",
              "      \n",
              "  <style>\n",
              "    .colab-df-container {\n",
              "      display:flex;\n",
              "      flex-wrap:wrap;\n",
              "      gap: 12px;\n",
              "    }\n",
              "\n",
              "    .colab-df-convert {\n",
              "      background-color: #E8F0FE;\n",
              "      border: none;\n",
              "      border-radius: 50%;\n",
              "      cursor: pointer;\n",
              "      display: none;\n",
              "      fill: #1967D2;\n",
              "      height: 32px;\n",
              "      padding: 0 0 0 0;\n",
              "      width: 32px;\n",
              "    }\n",
              "\n",
              "    .colab-df-convert:hover {\n",
              "      background-color: #E2EBFA;\n",
              "      box-shadow: 0px 1px 2px rgba(60, 64, 67, 0.3), 0px 1px 3px 1px rgba(60, 64, 67, 0.15);\n",
              "      fill: #174EA6;\n",
              "    }\n",
              "\n",
              "    [theme=dark] .colab-df-convert {\n",
              "      background-color: #3B4455;\n",
              "      fill: #D2E3FC;\n",
              "    }\n",
              "\n",
              "    [theme=dark] .colab-df-convert:hover {\n",
              "      background-color: #434B5C;\n",
              "      box-shadow: 0px 1px 3px 1px rgba(0, 0, 0, 0.15);\n",
              "      filter: drop-shadow(0px 1px 2px rgba(0, 0, 0, 0.3));\n",
              "      fill: #FFFFFF;\n",
              "    }\n",
              "  </style>\n",
              "\n",
              "      <script>\n",
              "        const buttonEl =\n",
              "          document.querySelector('#df-2ef48664-3b13-4892-8afb-b15b6a9dd7c5 button.colab-df-convert');\n",
              "        buttonEl.style.display =\n",
              "          google.colab.kernel.accessAllowed ? 'block' : 'none';\n",
              "\n",
              "        async function convertToInteractive(key) {\n",
              "          const element = document.querySelector('#df-2ef48664-3b13-4892-8afb-b15b6a9dd7c5');\n",
              "          const dataTable =\n",
              "            await google.colab.kernel.invokeFunction('convertToInteractive',\n",
              "                                                     [key], {});\n",
              "          if (!dataTable) return;\n",
              "\n",
              "          const docLinkHtml = 'Like what you see? Visit the ' +\n",
              "            '<a target=\"_blank\" href=https://colab.research.google.com/notebooks/data_table.ipynb>data table notebook</a>'\n",
              "            + ' to learn more about interactive tables.';\n",
              "          element.innerHTML = '';\n",
              "          dataTable['output_type'] = 'display_data';\n",
              "          await google.colab.output.renderOutput(dataTable, element);\n",
              "          const docLink = document.createElement('div');\n",
              "          docLink.innerHTML = docLinkHtml;\n",
              "          element.appendChild(docLink);\n",
              "        }\n",
              "      </script>\n",
              "    </div>\n",
              "  </div>\n",
              "  "
            ]
          },
          "metadata": {},
          "execution_count": 194
        }
      ]
    },
    {
      "cell_type": "code",
      "source": [
        "resenha.tail()"
      ],
      "metadata": {
        "colab": {
          "base_uri": "https://localhost:8080/",
          "height": 424
        },
        "id": "OCUnJ17xNX5D",
        "outputId": "8a5bdcd8-7e0c-4f75-9d35-990040dd224a"
      },
      "execution_count": 195,
      "outputs": [
        {
          "output_type": "execute_result",
          "data": {
            "text/plain": [
              "          id                                            text_en  \\\n",
              "49454  49456  Seeing as the vote average was pretty low, and...   \n",
              "49455  49457  The plot had some wretched, unbelievable twist...   \n",
              "49456  49458  I am amazed at how this movieand most others h...   \n",
              "49457  49459  A Christmas Together actually came before my t...   \n",
              "49458  49460  Working-class romantic drama from director Mar...   \n",
              "\n",
              "                                                 text_pt sentiment  \\\n",
              "49454  Como a média de votos era muito baixa, e o fat...       pos   \n",
              "49455  O enredo teve algumas reviravoltas infelizes e...       pos   \n",
              "49456  Estou espantado com a forma como este filme e ...       pos   \n",
              "49457  A Christmas Together realmente veio antes do m...       pos   \n",
              "49458  O drama romântico da classe trabalhadora do di...       pos   \n",
              "\n",
              "       classificacao  \n",
              "49454              1  \n",
              "49455              1  \n",
              "49456              1  \n",
              "49457              1  \n",
              "49458              1  "
            ],
            "text/html": [
              "\n",
              "  <div id=\"df-cc098162-e801-4cc1-9836-2e1e8152fbef\">\n",
              "    <div class=\"colab-df-container\">\n",
              "      <div>\n",
              "<style scoped>\n",
              "    .dataframe tbody tr th:only-of-type {\n",
              "        vertical-align: middle;\n",
              "    }\n",
              "\n",
              "    .dataframe tbody tr th {\n",
              "        vertical-align: top;\n",
              "    }\n",
              "\n",
              "    .dataframe thead th {\n",
              "        text-align: right;\n",
              "    }\n",
              "</style>\n",
              "<table border=\"1\" class=\"dataframe\">\n",
              "  <thead>\n",
              "    <tr style=\"text-align: right;\">\n",
              "      <th></th>\n",
              "      <th>id</th>\n",
              "      <th>text_en</th>\n",
              "      <th>text_pt</th>\n",
              "      <th>sentiment</th>\n",
              "      <th>classificacao</th>\n",
              "    </tr>\n",
              "  </thead>\n",
              "  <tbody>\n",
              "    <tr>\n",
              "      <th>49454</th>\n",
              "      <td>49456</td>\n",
              "      <td>Seeing as the vote average was pretty low, and...</td>\n",
              "      <td>Como a média de votos era muito baixa, e o fat...</td>\n",
              "      <td>pos</td>\n",
              "      <td>1</td>\n",
              "    </tr>\n",
              "    <tr>\n",
              "      <th>49455</th>\n",
              "      <td>49457</td>\n",
              "      <td>The plot had some wretched, unbelievable twist...</td>\n",
              "      <td>O enredo teve algumas reviravoltas infelizes e...</td>\n",
              "      <td>pos</td>\n",
              "      <td>1</td>\n",
              "    </tr>\n",
              "    <tr>\n",
              "      <th>49456</th>\n",
              "      <td>49458</td>\n",
              "      <td>I am amazed at how this movieand most others h...</td>\n",
              "      <td>Estou espantado com a forma como este filme e ...</td>\n",
              "      <td>pos</td>\n",
              "      <td>1</td>\n",
              "    </tr>\n",
              "    <tr>\n",
              "      <th>49457</th>\n",
              "      <td>49459</td>\n",
              "      <td>A Christmas Together actually came before my t...</td>\n",
              "      <td>A Christmas Together realmente veio antes do m...</td>\n",
              "      <td>pos</td>\n",
              "      <td>1</td>\n",
              "    </tr>\n",
              "    <tr>\n",
              "      <th>49458</th>\n",
              "      <td>49460</td>\n",
              "      <td>Working-class romantic drama from director Mar...</td>\n",
              "      <td>O drama romântico da classe trabalhadora do di...</td>\n",
              "      <td>pos</td>\n",
              "      <td>1</td>\n",
              "    </tr>\n",
              "  </tbody>\n",
              "</table>\n",
              "</div>\n",
              "      <button class=\"colab-df-convert\" onclick=\"convertToInteractive('df-cc098162-e801-4cc1-9836-2e1e8152fbef')\"\n",
              "              title=\"Convert this dataframe to an interactive table.\"\n",
              "              style=\"display:none;\">\n",
              "        \n",
              "  <svg xmlns=\"http://www.w3.org/2000/svg\" height=\"24px\"viewBox=\"0 0 24 24\"\n",
              "       width=\"24px\">\n",
              "    <path d=\"M0 0h24v24H0V0z\" fill=\"none\"/>\n",
              "    <path d=\"M18.56 5.44l.94 2.06.94-2.06 2.06-.94-2.06-.94-.94-2.06-.94 2.06-2.06.94zm-11 1L8.5 8.5l.94-2.06 2.06-.94-2.06-.94L8.5 2.5l-.94 2.06-2.06.94zm10 10l.94 2.06.94-2.06 2.06-.94-2.06-.94-.94-2.06-.94 2.06-2.06.94z\"/><path d=\"M17.41 7.96l-1.37-1.37c-.4-.4-.92-.59-1.43-.59-.52 0-1.04.2-1.43.59L10.3 9.45l-7.72 7.72c-.78.78-.78 2.05 0 2.83L4 21.41c.39.39.9.59 1.41.59.51 0 1.02-.2 1.41-.59l7.78-7.78 2.81-2.81c.8-.78.8-2.07 0-2.86zM5.41 20L4 18.59l7.72-7.72 1.47 1.35L5.41 20z\"/>\n",
              "  </svg>\n",
              "      </button>\n",
              "      \n",
              "  <style>\n",
              "    .colab-df-container {\n",
              "      display:flex;\n",
              "      flex-wrap:wrap;\n",
              "      gap: 12px;\n",
              "    }\n",
              "\n",
              "    .colab-df-convert {\n",
              "      background-color: #E8F0FE;\n",
              "      border: none;\n",
              "      border-radius: 50%;\n",
              "      cursor: pointer;\n",
              "      display: none;\n",
              "      fill: #1967D2;\n",
              "      height: 32px;\n",
              "      padding: 0 0 0 0;\n",
              "      width: 32px;\n",
              "    }\n",
              "\n",
              "    .colab-df-convert:hover {\n",
              "      background-color: #E2EBFA;\n",
              "      box-shadow: 0px 1px 2px rgba(60, 64, 67, 0.3), 0px 1px 3px 1px rgba(60, 64, 67, 0.15);\n",
              "      fill: #174EA6;\n",
              "    }\n",
              "\n",
              "    [theme=dark] .colab-df-convert {\n",
              "      background-color: #3B4455;\n",
              "      fill: #D2E3FC;\n",
              "    }\n",
              "\n",
              "    [theme=dark] .colab-df-convert:hover {\n",
              "      background-color: #434B5C;\n",
              "      box-shadow: 0px 1px 3px 1px rgba(0, 0, 0, 0.15);\n",
              "      filter: drop-shadow(0px 1px 2px rgba(0, 0, 0, 0.3));\n",
              "      fill: #FFFFFF;\n",
              "    }\n",
              "  </style>\n",
              "\n",
              "      <script>\n",
              "        const buttonEl =\n",
              "          document.querySelector('#df-cc098162-e801-4cc1-9836-2e1e8152fbef button.colab-df-convert');\n",
              "        buttonEl.style.display =\n",
              "          google.colab.kernel.accessAllowed ? 'block' : 'none';\n",
              "\n",
              "        async function convertToInteractive(key) {\n",
              "          const element = document.querySelector('#df-cc098162-e801-4cc1-9836-2e1e8152fbef');\n",
              "          const dataTable =\n",
              "            await google.colab.kernel.invokeFunction('convertToInteractive',\n",
              "                                                     [key], {});\n",
              "          if (!dataTable) return;\n",
              "\n",
              "          const docLinkHtml = 'Like what you see? Visit the ' +\n",
              "            '<a target=\"_blank\" href=https://colab.research.google.com/notebooks/data_table.ipynb>data table notebook</a>'\n",
              "            + ' to learn more about interactive tables.';\n",
              "          element.innerHTML = '';\n",
              "          dataTable['output_type'] = 'display_data';\n",
              "          await google.colab.output.renderOutput(dataTable, element);\n",
              "          const docLink = document.createElement('div');\n",
              "          docLink.innerHTML = docLinkHtml;\n",
              "          element.appendChild(docLink);\n",
              "        }\n",
              "      </script>\n",
              "    </div>\n",
              "  </div>\n",
              "  "
            ]
          },
          "metadata": {},
          "execution_count": 195
        }
      ]
    },
    {
      "cell_type": "code",
      "source": [
        "print(resenha[\"classificacao\"].value_counts())"
      ],
      "metadata": {
        "colab": {
          "base_uri": "https://localhost:8080/"
        },
        "id": "2IIZJFkmNbex",
        "outputId": "ee79e1b9-8568-4fdd-9392-1d703c5236ac"
      },
      "execution_count": 196,
      "outputs": [
        {
          "output_type": "stream",
          "name": "stdout",
          "text": [
            "0    24765\n",
            "1    24694\n",
            "Name: classificacao, dtype: int64\n"
          ]
        }
      ]
    },
    {
      "cell_type": "code",
      "source": [
        "from sklearn.feature_extraction.text import CountVectorizer\n",
        "\n",
        "textos = [\"Assisti um filme ótimo\", \"Assisti um filme péssimo\"]\n",
        "\n",
        "vetorizar = CountVectorizer(lowercase = False)\n",
        "bag_of_words = vetorizar.fit_transform(textos)"
      ],
      "metadata": {
        "id": "T5xzANBsNfwm"
      },
      "execution_count": 197,
      "outputs": []
    },
    {
      "cell_type": "code",
      "source": [
        "bag_of_words"
      ],
      "metadata": {
        "colab": {
          "base_uri": "https://localhost:8080/"
        },
        "id": "0aijNz-VNjxm",
        "outputId": "028469bd-6b2d-4ce0-f779-4326a7f50878"
      },
      "execution_count": 198,
      "outputs": [
        {
          "output_type": "execute_result",
          "data": {
            "text/plain": [
              "<2x5 sparse matrix of type '<class 'numpy.int64'>'\n",
              "\twith 8 stored elements in Compressed Sparse Row format>"
            ]
          },
          "metadata": {},
          "execution_count": 198
        }
      ]
    },
    {
      "cell_type": "code",
      "source": [
        "CountVectorizer"
      ],
      "metadata": {
        "colab": {
          "base_uri": "https://localhost:8080/"
        },
        "id": "BHwFFap557Co",
        "outputId": "f5dbbb19-77b9-4692-efc7-68fbd5e2fc9e"
      },
      "execution_count": 199,
      "outputs": [
        {
          "output_type": "execute_result",
          "data": {
            "text/plain": [
              "sklearn.feature_extraction.text.CountVectorizer"
            ]
          },
          "metadata": {},
          "execution_count": 199
        }
      ]
    },
    {
      "cell_type": "code",
      "source": [
        "vetorizar.get_feature_names_out"
      ],
      "metadata": {
        "colab": {
          "base_uri": "https://localhost:8080/"
        },
        "id": "lcZJyNccNkXJ",
        "outputId": "f8548f01-7f96-4add-f72e-69072340db86"
      },
      "execution_count": 200,
      "outputs": [
        {
          "output_type": "execute_result",
          "data": {
            "text/plain": [
              "<bound method CountVectorizer.get_feature_names_out of CountVectorizer(lowercase=False)>"
            ]
          },
          "metadata": {},
          "execution_count": 200
        }
      ]
    },
    {
      "cell_type": "code",
      "source": [
        "vetorizado = pd.SparseDataFrame(\n",
        "    bag_of_words,\n",
        "    columns = vetorizar.get_feature_names_out\n",
        ")\n",
        "vetorizado"
      ],
      "metadata": {
        "colab": {
          "base_uri": "https://localhost:8080/",
          "height": 289
        },
        "id": "O8J3KvM8-DA6",
        "outputId": "5c4acf74-8945-44e8-b3f6-d322525b062b"
      },
      "execution_count": 201,
      "outputs": [
        {
          "output_type": "stream",
          "name": "stderr",
          "text": [
            "<ipython-input-201-979df6a409ed>:1: FutureWarning: The SparseDataFrame class is removed from pandas. Accessing it from the top-level namespace will also be removed in the next version.\n",
            "  vetorizado = pd.SparseDataFrame(\n"
          ]
        },
        {
          "output_type": "error",
          "ename": "TypeError",
          "evalue": "ignored",
          "traceback": [
            "\u001b[0;31m---------------------------------------------------------------------------\u001b[0m",
            "\u001b[0;31mTypeError\u001b[0m                                 Traceback (most recent call last)",
            "\u001b[0;32m<ipython-input-201-979df6a409ed>\u001b[0m in \u001b[0;36m<cell line: 1>\u001b[0;34m()\u001b[0m\n\u001b[0;32m----> 1\u001b[0;31m vetorizado = pd.SparseDataFrame(\n\u001b[0m\u001b[1;32m      2\u001b[0m     \u001b[0mbag_of_words\u001b[0m\u001b[0;34m,\u001b[0m\u001b[0;34m\u001b[0m\u001b[0;34m\u001b[0m\u001b[0m\n\u001b[1;32m      3\u001b[0m     \u001b[0mcolumns\u001b[0m \u001b[0;34m=\u001b[0m \u001b[0mvetorizar\u001b[0m\u001b[0;34m.\u001b[0m\u001b[0mget_feature_names_out\u001b[0m\u001b[0;34m\u001b[0m\u001b[0;34m\u001b[0m\u001b[0m\n\u001b[1;32m      4\u001b[0m )\n\u001b[1;32m      5\u001b[0m \u001b[0mvetorizado\u001b[0m\u001b[0;34m\u001b[0m\u001b[0;34m\u001b[0m\u001b[0m\n",
            "\u001b[0;31mTypeError\u001b[0m: SparseDataFrame() takes no arguments"
          ]
        }
      ]
    },
    {
      "cell_type": "markdown",
      "source": [
        "#Classificando sentimentos: um passo-a-passo\n"
      ],
      "metadata": {
        "id": "ZEFVyKlQ16_V"
      }
    },
    {
      "cell_type": "code",
      "source": [
        "vetorizar = CountVectorizer(lowercase = False, max_features = 50)\n",
        "bag_of_words = vetorizar.fit_transform(resenha[\"text_pt\"])"
      ],
      "metadata": {
        "id": "LCB1vpxNNupP"
      },
      "execution_count": null,
      "outputs": []
    },
    {
      "cell_type": "code",
      "source": [
        "print(bag_of_words.shape)"
      ],
      "metadata": {
        "id": "JdTn-6PG2Ij4"
      },
      "execution_count": null,
      "outputs": []
    },
    {
      "cell_type": "code",
      "execution_count": null,
      "metadata": {
        "id": "81JeEaRvUCqQ"
      },
      "outputs": [],
      "source": [
        "from sklearn.model_selection import train_test_split\n",
        "\n",
        "treino, teste, classe_treino, classe_teste = train_test_split(resenha.text_pt,\n",
        "                                                              resenha.sentiment,\n",
        "                                                              random_state = 42)"
      ]
    },
    {
      "cell_type": "code",
      "source": [
        "print(treino.shape)\n",
        "print(teste.shape)"
      ],
      "metadata": {
        "id": "CJLnyWDW2SBk"
      },
      "execution_count": null,
      "outputs": []
    },
    {
      "cell_type": "code",
      "execution_count": null,
      "metadata": {
        "id": "dhl_OVahUCqW"
      },
      "outputs": [],
      "source": [
        "from sklearn.linear_model import LogisticRegression\n",
        "\n",
        "regressao_logistica = LogisticRegression(solver = \"lbfgs\")\n",
        "regressao_logistica.fit(treino, classe_treino)\n",
        "previsao_teste = regressao_logistica.predict_proba(teste)\n",
        "print(previsao_teste)"
      ]
    },
    {
      "cell_type": "code",
      "source": [
        "previsao_teste_bol = previsao_teste[:,1] >= 0.5\n",
        "print(previsao_teste_bol)"
      ],
      "metadata": {
        "id": "0IzEkkNO2bxM"
      },
      "execution_count": null,
      "outputs": []
    },
    {
      "cell_type": "code",
      "source": [
        "import numpy as np\n",
        "\n",
        "previsao_teste_int = previsao_teste_bol.astype(np.int)\n",
        "print(previsao_teste_int)"
      ],
      "metadata": {
        "id": "DIo6J3MT2jQR"
      },
      "execution_count": null,
      "outputs": []
    },
    {
      "cell_type": "code",
      "source": [
        "from sklearn.metrics import accuracy_score\n",
        "\n",
        "acuracia_teste = accuracy_score(classe_teste, previsao_teste_int)\n",
        "print(acuracia_teste)"
      ],
      "metadata": {
        "id": "wggBo9Ya2qkY"
      },
      "execution_count": null,
      "outputs": []
    },
    {
      "cell_type": "markdown",
      "source": [
        "#Visualizando os dados com WordCloud"
      ],
      "metadata": {
        "id": "tKL7vXJY2vmJ"
      }
    },
    {
      "cell_type": "code",
      "source": [
        "%matplotlib inline\n",
        "\n",
        "from wordcloud import WordCloud\n",
        "\n",
        "todos_palavras = ' '.join([texto for texto in resenha[\"text_pt\"]])"
      ],
      "metadata": {
        "id": "2NxBTs4h22e3"
      },
      "execution_count": null,
      "outputs": []
    },
    {
      "cell_type": "code",
      "source": [
        "nuvem_palavras = WordCloud(width = 800, height = 500, max_font_size = 110,\n",
        "                          collocations = False).generate(todos_palavras)"
      ],
      "metadata": {
        "id": "1zFVeCvP3DlC"
      },
      "execution_count": null,
      "outputs": []
    },
    {
      "cell_type": "code",
      "source": [
        "import matplotlib.pyplot as plt\n",
        "\n",
        "plt.figure(figsize= (10, 7))\n",
        "plt.imshow(nuvem_palavras, interpolation = 'bilinear')\n",
        "plt.axis('off')\n",
        "plt.show()"
      ],
      "metadata": {
        "id": "xXUEoA4J3Mcl"
      },
      "execution_count": null,
      "outputs": []
    },
    {
      "cell_type": "code",
      "source": [
        "resenha_positiva = resenha.query(\"sentiment == 'pos'\")"
      ],
      "metadata": {
        "id": "wBbFK4Z23TgL"
      },
      "execution_count": null,
      "outputs": []
    },
    {
      "cell_type": "code",
      "source": [
        "resenha_positiva.head()"
      ],
      "metadata": {
        "id": "v98X0b7C3Xgy"
      },
      "execution_count": null,
      "outputs": []
    },
    {
      "cell_type": "code",
      "source": [
        "palavras_pos = ' '.join([texto for texto in resenha_positiva[\"text_pt\"]])\n",
        "nuvem_palavras = WordCloud(width=800, height=500, max_font_size=110,\n",
        "                           collocations=False).generate(palavras_pos)\n",
        "plt.figure(figsize=(10,7))\n",
        "plt.imshow(nuvem_palavras, interpolation='bilinear')\n",
        "plt.axis('off')\n",
        "plt.show()"
      ],
      "metadata": {
        "id": "6MN9AJbU3cMF"
      },
      "execution_count": null,
      "outputs": []
    },
    {
      "cell_type": "markdown",
      "source": [
        "#Tokenização com NLTK para criar uma nova visualização."
      ],
      "metadata": {
        "id": "pxebEgHW3zMb"
      }
    },
    {
      "cell_type": "code",
      "source": [
        "from nltk import tokenize\n",
        "\n",
        "frase = \"Bem vindo ao mundo do PLN\"\n",
        "token_espaco = tokenize.WhitespaceTokenizer()\n",
        "token_frase = token_espaco.tokenize(frase)\n",
        "print(token_frase)"
      ],
      "metadata": {
        "id": "Ros4SZhw4Hdr"
      },
      "execution_count": null,
      "outputs": []
    },
    {
      "cell_type": "code",
      "source": [
        "import nltk\n",
        "\n",
        "todas_palavras = ' '.join([texto for texto in resenha[\"text_pt\"]])\n",
        "frequencia = nltk.FreqDist(token_espaco.tokenize(todas_palavras))\n",
        "df_frequencia = pd.DataFrame({\"Palavra\": list(frequencia.keys()),\n",
        "                             \"Frequência\": list(frequencia.values())})"
      ],
      "metadata": {
        "id": "5saQ5YNv4NlK"
      },
      "execution_count": null,
      "outputs": []
    },
    {
      "cell_type": "code",
      "source": [
        "df_frequencia.head()"
      ],
      "metadata": {
        "id": "SSpVKVqd4S_z"
      },
      "execution_count": null,
      "outputs": []
    },
    {
      "cell_type": "code",
      "source": [
        "df_frequencia = df_frequencia.nlargest(columns = \"Frequência\", n = 10)"
      ],
      "metadata": {
        "id": "WyKQsF4D4YaB"
      },
      "execution_count": null,
      "outputs": []
    },
    {
      "cell_type": "code",
      "source": [
        "df_frequencia"
      ],
      "metadata": {
        "id": "3D7UUGEN4cbz"
      },
      "execution_count": null,
      "outputs": []
    },
    {
      "cell_type": "code",
      "source": [
        "import seaborn as sns\n",
        "\n",
        "plt.figure(figsize=(12,8))\n",
        "ax = sns.barplot(data = df_frequencia, x= \"Palavra\", y = \"Frequência\", color = 'gray')\n",
        "ax.set(ylabel = \"Contagem\")\n",
        "plt.show()"
      ],
      "metadata": {
        "id": "QzcAboIC4k28"
      },
      "execution_count": null,
      "outputs": []
    },
    {
      "cell_type": "markdown",
      "source": [
        "#Criando funções para um pipeline de otimização."
      ],
      "metadata": {
        "id": "MOfLhnUB4nZc"
      }
    },
    {
      "cell_type": "code",
      "source": [
        "import nltk"
      ],
      "metadata": {
        "id": "5IC0lUu45ivH"
      },
      "execution_count": null,
      "outputs": []
    },
    {
      "cell_type": "code",
      "source": [
        "nltk.download('stopwords')"
      ],
      "metadata": {
        "id": "S6DeVAMm5nX7"
      },
      "execution_count": null,
      "outputs": []
    },
    {
      "cell_type": "code",
      "source": [
        "palavras_irrelevantes = nltk.corpus.stopwords.words(\"portuguese\")\n",
        "frase_processada = list()\n",
        "\n",
        "for opiniao in resenha[\"text_pt\"]:\n",
        "    nova_frase = list()\n",
        "    palavras_texto = token_espaco.tokenize(opiniao)\n",
        "    for palavra in palavras_texto:\n",
        "        if palavra not in palavras_irrelevantes:\n",
        "            nova_frase.append(palavra)\n",
        "    frase_processada.append(' '.join(nova_frase))\n",
        "    \n",
        "resenha[\"tratamento_1\"] = frase_processada"
      ],
      "metadata": {
        "id": "_CbDOQD25X0v"
      },
      "execution_count": null,
      "outputs": []
    },
    {
      "cell_type": "code",
      "source": [
        "resenha.head()"
      ],
      "metadata": {
        "id": "GIMljQqVAJQC"
      },
      "execution_count": null,
      "outputs": []
    },
    {
      "cell_type": "code",
      "source": [
        "print(\"Frase text_pr\\n\")\n",
        "print(resenha[\"text_pt\"][0])\n",
        "print(\"\\n Frase tratamento_1\\n\")\n",
        "print(resenha[\"tratamento_1\"][0])"
      ],
      "metadata": {
        "id": "oQHCPpCYASP7"
      },
      "execution_count": null,
      "outputs": []
    },
    {
      "cell_type": "code",
      "source": [
        "def nuvem_palavras_neg(texto, coluna_texto):\n",
        "    texto_negativo = texto.query(\"sentiment == 'neg'\")\n",
        "    todas_palavras = ' '.join([texto for texto in texto_negativo[coluna_texto]])\n",
        "    nuvem_palavras = WordCloud(width = 800, height = 500,\n",
        "                                max_font_size=110, collocations=False).generate(todas_palavras)\n",
        "    plt.figure(figsize=(10,7))\n",
        "    plt.imshow(nuvem_palavras, interpolation='bilinear')\n",
        "    plt.axis('off')\n",
        "    plt.show()\n",
        "    \n",
        "nuvem_palavras_neg(resenha, \"tratamento_1\")"
      ],
      "metadata": {
        "id": "7GO1wuqSAXbv"
      },
      "execution_count": null,
      "outputs": []
    },
    {
      "cell_type": "code",
      "source": [
        "def nuvem_palavras_pos(texto, coluna_texto):\n",
        "    texto_positivo = texto.query(\"sentiment == 'pos'\")\n",
        "    todas_palavras = ' '.join([texto for texto in texto_positivo[coluna_texto]])\n",
        "    nuvem_palavras = WordCloud(width = 800, height = 500,\n",
        "                                max_font_size=110, collocations=False).generate(todas_palavras)\n",
        "    plt.figure(figsize=(10,7))\n",
        "    plt.imshow(nuvem_palavras, interpolation='bilinear')\n",
        "    plt.axis('off')\n",
        "    plt.show()\n",
        "    \n",
        "nuvem_palavras_pos(resenha, \"tratamento_1\")  "
      ],
      "metadata": {
        "id": "tGpsYphmAd4n"
      },
      "execution_count": null,
      "outputs": []
    },
    {
      "cell_type": "code",
      "source": [
        "def pareto(texto, coluna_texto, quantidade):\n",
        "    todas_palavras = ' '.join([texto for texto in texto[coluna_texto]])\n",
        "    frequencia = nltk.FreqDist(token_espaco.tokenize(todas_palavras))\n",
        "    df_frequencia = pd.DataFrame({\"Palavra\": list(frequencia.keys()),\n",
        "                                 \"Frequência\": list(frequencia.values())})\n",
        "    df_frequencia = df_frequencia.nlargest(columns = \"Frequência\", n = quantidade)\n",
        "    plt.figure(figsize=(12,8))\n",
        "    ax = sns.barplot(data = df_frequencia, x= \"Palavra\", y = \"Frequência\", color = 'gray')\n",
        "    ax.set(ylabel = \"Contagem\")\n",
        "    plt.show()   \n",
        "\n",
        "pareto(resenha, \"tratamento_1\", 10)"
      ],
      "metadata": {
        "id": "rwDHX3PGAiEJ"
      },
      "execution_count": null,
      "outputs": []
    },
    {
      "cell_type": "code",
      "source": [
        "def classificar_texto(texto, coluna_texto, coluna_classificacao):\n",
        "    vetorizar = CountVectorizer(lowercase=False, max_features=50)\n",
        "    bag_of_words = vetorizar.fit_transform(texto[coluna_texto])\n",
        "    treino, teste, classe_treino, classe_teste = train_test_split(bag_of_words,\n",
        "                                                                 texto[coluna_classificacao],\n",
        "                                                                 random_state = 42)\n",
        "    \n",
        "    regressao_logistica = LogisticRegression(solver=\"lbfgs\")\n",
        "    regressao_logistica.fit(treino, classe_treino)\n",
        "    \n",
        "    return regressao_logistica.score(teste, classe_teste)\n",
        "\n",
        "acuracia_teste = classificar_texto(resenha, \"tratamento_1\", \"classificacao\")\n",
        "print(acuracia_teste)"
      ],
      "metadata": {
        "id": "0Ek3oSWkAoUN"
      },
      "execution_count": null,
      "outputs": []
    },
    {
      "cell_type": "markdown",
      "source": [
        "#Introdução ao Processamento de Linguagem Natural com Python (Parte 2)\n",
        "\n",
        "###Otimizando a análise: o primeiro passo"
      ],
      "metadata": {
        "id": "xOUQL6uCAs6M"
      }
    },
    {
      "cell_type": "code",
      "source": [
        "from nltk import tokenize\n",
        "\n",
        "frase = \"Olá mundo!\"\n",
        "token_pontuacao = tokenize.WordPunctTokenizer()\n",
        "token_frase = token_pontuacao.tokenize(frase)\n",
        "\n",
        "print(token_frase)"
      ],
      "metadata": {
        "id": "z3QZWhJZBDxg"
      },
      "execution_count": null,
      "outputs": []
    },
    {
      "cell_type": "markdown",
      "source": [
        "#Melhorando a visulização do pareto"
      ],
      "metadata": {
        "id": "mZjWDR7jBGFs"
      }
    },
    {
      "cell_type": "code",
      "source": [
        "from string import punctuation\n",
        "\n",
        "pontuacao = list()\n",
        "for ponto in punctuation:\n",
        "    pontuacao.append(ponto)\n",
        "\n",
        "pontuacao_stopwords = pontuacao + palavras_irrelevantes\n",
        "\n",
        "frase_processada = list()\n",
        "for opiniao in resenha[\"tratamento_1\"]:\n",
        "    nova_frase = list()\n",
        "    palavras_texto = token_pontuacao.tokenize(opiniao)\n",
        "    for palavra in palavras_texto:\n",
        "        if palavra not in pontuacao_stopwords:\n",
        "            nova_frase.append(palavra)\n",
        "    frase_processada.append(' '.join(nova_frase))\n",
        "    \n",
        "resenha[\"tratamento_2\"] = frase_processada"
      ],
      "metadata": {
        "id": "Sgy1R9JjBNyE"
      },
      "execution_count": null,
      "outputs": []
    },
    {
      "cell_type": "code",
      "source": [
        "resenha.head()"
      ],
      "metadata": {
        "id": "5kg13JRHBSLg"
      },
      "execution_count": null,
      "outputs": []
    },
    {
      "cell_type": "code",
      "source": [
        "resenha[\"tratamento_1\"][0]"
      ],
      "metadata": {
        "id": "4vR4Sv5bBXUX"
      },
      "execution_count": null,
      "outputs": []
    },
    {
      "cell_type": "code",
      "source": [
        "resenha[\"tratamento_2\"][0]"
      ],
      "metadata": {
        "id": "j6dfc4CQBbXI"
      },
      "execution_count": null,
      "outputs": []
    },
    {
      "cell_type": "code",
      "source": [
        "pareto(resenha, \"tratamento_2\", 10)"
      ],
      "metadata": {
        "id": "TNJuR9qJBcxE"
      },
      "execution_count": null,
      "outputs": []
    },
    {
      "cell_type": "markdown",
      "source": [
        "##Normalização de textos"
      ],
      "metadata": {
        "id": "5tU8ZFCsBn_J"
      }
    },
    {
      "cell_type": "code",
      "source": [
        "!pip install unidecode\n",
        "import unidecode\n",
        "\n",
        "acentos = \"ótimo péssimo não é tão\"\n",
        "\n",
        "teste = unidecode.unidecode(acentos)\n",
        "print(teste)"
      ],
      "metadata": {
        "id": "KynuBx1LBwaY"
      },
      "execution_count": null,
      "outputs": []
    },
    {
      "cell_type": "code",
      "source": [
        "sem_acentos = [unidecode.unidecode(texto) for texto in resenha[\"tratamento_2\"]]"
      ],
      "metadata": {
        "id": "ICU016RqDNs0"
      },
      "execution_count": null,
      "outputs": []
    },
    {
      "cell_type": "code",
      "source": [
        "sem_acentos[0]"
      ],
      "metadata": {
        "id": "DgQ2LMSCDUhn"
      },
      "execution_count": null,
      "outputs": []
    },
    {
      "cell_type": "code",
      "source": [
        "stopwords_sem_acento = [unidecode.unidecode(texto) for texto in pontuacao_stopwords]"
      ],
      "metadata": {
        "id": "qmlNahJTDYx-"
      },
      "execution_count": null,
      "outputs": []
    },
    {
      "cell_type": "code",
      "source": [
        "stopwords_sem_acento"
      ],
      "metadata": {
        "id": "8F7Uj_BODbp1"
      },
      "execution_count": null,
      "outputs": []
    },
    {
      "cell_type": "code",
      "source": [
        "resenha[\"tratamento_3\"] = sem_acentos\n",
        "\n",
        "frase_processada = list()\n",
        "for opiniao in resenha[\"tratamento_3\"]:\n",
        "    nova_frase = list()\n",
        "    palavras_texto = token_pontuacao.tokenize(opiniao)\n",
        "    for palavra in palavras_texto:\n",
        "        if palavra not in stopwords_sem_acento:\n",
        "            nova_frase.append(palavra)\n",
        "    frase_processada.append(' '.join(nova_frase))\n",
        "    \n",
        "resenha[\"tratamento_3\"] = frase_processada"
      ],
      "metadata": {
        "id": "FOvmBNQXDmyN"
      },
      "execution_count": null,
      "outputs": []
    },
    {
      "cell_type": "code",
      "source": [
        "resenha.head()"
      ],
      "metadata": {
        "id": "qXdn3o9UDqZZ"
      },
      "execution_count": null,
      "outputs": []
    },
    {
      "cell_type": "code",
      "source": [
        "acuracia_tratamento3 = classificar_texto(resenha, \"tratamento_3\", \"classificacao\")\n",
        "print(acuracia_tratamento3)"
      ],
      "metadata": {
        "id": "T2zKXE1SDt78"
      },
      "execution_count": null,
      "outputs": []
    },
    {
      "cell_type": "code",
      "source": [
        "acuracia_teste"
      ],
      "metadata": {
        "id": "5J-TTSCWDxil"
      },
      "execution_count": null,
      "outputs": []
    },
    {
      "cell_type": "code",
      "source": [
        "nuvem_palavras_neg(resenha, \"tratamento_3\")"
      ],
      "metadata": {
        "id": "I0eUtCH5D7ND"
      },
      "execution_count": null,
      "outputs": []
    },
    {
      "cell_type": "code",
      "source": [
        "nuvem_palavras_pos(resenha, \"tratamento_3\")"
      ],
      "metadata": {
        "id": "fPnp3VHoEABB"
      },
      "execution_count": null,
      "outputs": []
    },
    {
      "cell_type": "code",
      "source": [
        "pareto(resenha, \"tratamento_3\", 10)"
      ],
      "metadata": {
        "id": "09riankEEE6B"
      },
      "execution_count": null,
      "outputs": []
    },
    {
      "cell_type": "code",
      "source": [
        "frase = \"O Thiago é o novo instrutor da Alura\"\n",
        "print(frase.lower())"
      ],
      "metadata": {
        "id": "1lt9jurVEKZ4"
      },
      "execution_count": null,
      "outputs": []
    },
    {
      "cell_type": "code",
      "source": [
        "frase_processada = list()\n",
        "for opiniao in resenha[\"tratamento_3\"]:\n",
        "    nova_frase = list()\n",
        "    opiniao = opiniao.lower()\n",
        "    palavras_texto = token_pontuacao.tokenize(opiniao)\n",
        "    for palavra in palavras_texto:\n",
        "        if palavra not in stopwords_sem_acento:\n",
        "            nova_frase.append(palavra)\n",
        "    frase_processada.append(' '.join(nova_frase))\n",
        "    \n",
        "resenha[\"tratamento_4\"] = frase_processada"
      ],
      "metadata": {
        "id": "JsAzef1AEOof"
      },
      "execution_count": null,
      "outputs": []
    },
    {
      "cell_type": "code",
      "source": [
        "resenha[\"text_pt\"][0]"
      ],
      "metadata": {
        "id": "ndxMp0xmEWcO"
      },
      "execution_count": null,
      "outputs": []
    },
    {
      "cell_type": "code",
      "source": [
        "resenha[\"tratamento_4\"][0]"
      ],
      "metadata": {
        "id": "PI86KVE3Eaa1"
      },
      "execution_count": null,
      "outputs": []
    },
    {
      "cell_type": "code",
      "source": [
        "acuracia_tratamento4 = classificar_texto(resenha, \"tratamento_4\", \"classificacao\")\n",
        "print(acuracia_tratamento4)\n",
        "print(acuracia_tratamento3)"
      ],
      "metadata": {
        "id": "lZ9sUqv2EdqT"
      },
      "execution_count": null,
      "outputs": []
    },
    {
      "cell_type": "code",
      "source": [
        "nuvem_palavras_neg(resenha, \"tratamento_4\")"
      ],
      "metadata": {
        "id": "FvqaIZMYEi6h"
      },
      "execution_count": null,
      "outputs": []
    },
    {
      "cell_type": "code",
      "source": [
        "nuvem_palavras_pos(resenha, \"tratamento_4\")"
      ],
      "metadata": {
        "id": "45UljVpaEmqc"
      },
      "execution_count": null,
      "outputs": []
    },
    {
      "cell_type": "code",
      "source": [
        "pareto(resenha, \"tratamento_4\", 10)"
      ],
      "metadata": {
        "id": "2IX9OgI9Eqeu"
      },
      "execution_count": null,
      "outputs": []
    },
    {
      "cell_type": "markdown",
      "source": [
        "##Evitando flexões e derivações nas palavras"
      ],
      "metadata": {
        "id": "bsGShtIWExEB"
      }
    },
    {
      "cell_type": "code",
      "source": [
        "nltk.download('rslp')"
      ],
      "metadata": {
        "id": "ri-bJWyuFAs6"
      },
      "execution_count": null,
      "outputs": []
    },
    {
      "cell_type": "code",
      "source": [
        "stemmer = nltk.RSLPStemmer()\n",
        "stemmer.stem(\"correria\")"
      ],
      "metadata": {
        "id": "XJQ3isu2E5f9"
      },
      "execution_count": null,
      "outputs": []
    },
    {
      "cell_type": "code",
      "source": [
        "frase_processada = list()\n",
        "for opiniao in resenha[\"tratamento_4\"]:\n",
        "    nova_frase = list()\n",
        "    palavras_texto = token_pontuacao.tokenize(opiniao)\n",
        "    for palavra in palavras_texto:\n",
        "        if palavra not in stopwords_sem_acento:\n",
        "            nova_frase.append(stemmer.stem(palavra))\n",
        "    frase_processada.append(' '.join(nova_frase))\n",
        "    \n",
        "resenha[\"tratamento_5\"] = frase_processada"
      ],
      "metadata": {
        "id": "EXpPQD3dFGHZ"
      },
      "execution_count": null,
      "outputs": []
    },
    {
      "cell_type": "code",
      "source": [
        "acuracia_tratamento5 = classificar_texto(resenha, \"tratamento_5\", \"classificacao\")\n",
        "print(acuracia_tratamento5)\n",
        "print(acuracia_tratamento4)"
      ],
      "metadata": {
        "id": "ZxGGkKDQFKqy"
      },
      "execution_count": null,
      "outputs": []
    },
    {
      "cell_type": "code",
      "source": [
        "nuvem_palavras_neg(resenha, \"tratamento_5\")"
      ],
      "metadata": {
        "id": "yepG7CaqG61d"
      },
      "execution_count": null,
      "outputs": []
    },
    {
      "cell_type": "code",
      "source": [
        "nuvem_palavras_pos(resenha,\"tratamento_5\")"
      ],
      "metadata": {
        "id": "PVbk2_zPG_RO"
      },
      "execution_count": null,
      "outputs": []
    },
    {
      "cell_type": "code",
      "source": [
        "pareto(resenha, \"tratamento_5\", 10)"
      ],
      "metadata": {
        "id": "ynA1dwFOHGvQ"
      },
      "execution_count": null,
      "outputs": []
    },
    {
      "cell_type": "markdown",
      "source": [
        "#TF-IDF e Ngrams: técnicas mais avançadas"
      ],
      "metadata": {
        "id": "R-8h2cOiHJeL"
      }
    },
    {
      "cell_type": "code",
      "source": [
        "from sklearn.feature_extraction.text import TfidfVectorizer\n",
        "\n",
        "frases = [\"Assiti um filme ótimo\", \"Assiti um filme péssimo\"]\n",
        "\n",
        "tfidf = TfidfVectorizer(lowercase=False, max_features=50)\n",
        "\n",
        "caracteristicas = tfidf.fit_transform(frases)\n",
        "pd.DataFrame(\n",
        "    caracteristicas.todense(),\n",
        "    columns=tfidf.get_feature_names_out\n",
        ")"
      ],
      "metadata": {
        "id": "LvemmhGvHWFt"
      },
      "execution_count": null,
      "outputs": []
    },
    {
      "cell_type": "code",
      "source": [
        "tfidf_bruto = tfidf.fit_transform(resenha[\"text_pt\"])\n",
        "treino, teste, classe_treino, classe_teste = train_test_split(tfidf_bruto,\n",
        "                                                              resenha[\"classificacao\"],\n",
        "                                                              random_state = 42)\n",
        "regressao_logistica.fit(treino, classe_treino)\n",
        "acuracia_tfidf_bruto = regressao_logistica.score(teste, classe_teste)\n",
        "print(acuracia_tfidf_bruto)"
      ],
      "metadata": {
        "id": "7iD0nThIH-xt"
      },
      "execution_count": null,
      "outputs": []
    },
    {
      "cell_type": "code",
      "source": [
        "tfidf_tratados = tfidf.fit_transform(resenha[\"tratamento_5\"])\n",
        "treino, teste, classe_treino, classe_teste = train_test_split(tfidf_tratados,\n",
        "                                                              resenha[\"classificacao\"],\n",
        "                                                              random_state = 42)\n",
        "regressao_logistica.fit(treino, classe_treino)\n",
        "acuracia_tfidf_tratados = regressao_logistica.score(teste, classe_teste)\n",
        "print(acuracia_tfidf_tratados)"
      ],
      "metadata": {
        "id": "d0xb0s3HIDSa"
      },
      "execution_count": null,
      "outputs": []
    },
    {
      "cell_type": "code",
      "source": [
        "print(acuracia_tratamento5)"
      ],
      "metadata": {
        "id": "nbtWdI3NIOmr"
      },
      "execution_count": null,
      "outputs": []
    },
    {
      "cell_type": "code",
      "source": [
        "from nltk import ngrams\n",
        "\n",
        "frase = \"Assisti um ótimo filme.\"\n",
        "frase_separada = token_espaco.tokenize(frase)\n",
        "pares = ngrams(frase_separada, 2)\n",
        "list(pares)"
      ],
      "metadata": {
        "id": "y0SEBpjDIQP1"
      },
      "execution_count": null,
      "outputs": []
    },
    {
      "cell_type": "code",
      "source": [
        "tfidf = TfidfVectorizer(lowercase=False, ngram_range = (1,2))\n",
        "vetor_tfidf = tfidf.fit_transform(resenha[\"tratamento_5\"])\n",
        "treino, teste, classe_treino, classe_teste = train_test_split(vetor_tfidf,\n",
        "                                                              resenha[\"classificacao\"],\n",
        "                                                              random_state = 42)\n",
        "regressao_logistica.fit(treino, classe_treino)\n",
        "acuracia_tfidf_ngrams = regressao_logistica.score(teste, classe_teste)\n",
        "print(acuracia_tfidf_ngrams)"
      ],
      "metadata": {
        "id": "XmJe_mTZIVU6"
      },
      "execution_count": null,
      "outputs": []
    },
    {
      "cell_type": "code",
      "source": [
        "tfidf = TfidfVectorizer(lowercase=False)\n",
        "vetor_tfidf = tfidf.fit_transform(resenha[\"tratamento_5\"])\n",
        "treino, teste, classe_treino, classe_teste = train_test_split(vetor_tfidf,\n",
        "                                                              resenha[\"classificacao\"],\n",
        "                                                              random_state = 42)\n",
        "regressao_logistica.fit(treino, classe_treino)\n",
        "acuracia_tfidf = regressao_logistica.score(teste, classe_teste)\n",
        "print(acuracia_tfidf)"
      ],
      "metadata": {
        "id": "WNWNhkUxIXRJ"
      },
      "execution_count": null,
      "outputs": []
    },
    {
      "cell_type": "code",
      "source": [
        "pesos = pd.DataFrame(\n",
        "    regressao_logistica.coef_[0].T,\n",
        "    index = tfidf.get_feature_names_out\n",
        ")\n",
        "\n",
        "pesos.nlargest(50,0)"
      ],
      "metadata": {
        "id": "FIguEy9XJRVm"
      },
      "execution_count": null,
      "outputs": []
    },
    {
      "cell_type": "code",
      "source": [
        "pesos.nsmallest(10,0)"
      ],
      "metadata": {
        "id": "7sjXbtQoK9gh"
      },
      "execution_count": null,
      "outputs": []
    }
  ],
  "metadata": {
    "colab": {
      "provenance": []
    },
    "kernelspec": {
      "display_name": "Python 3",
      "language": "python",
      "name": "python3"
    },
    "language_info": {
      "codemirror_mode": {
        "name": "ipython",
        "version": 3
      },
      "file_extension": ".py",
      "mimetype": "text/x-python",
      "name": "python",
      "nbconvert_exporter": "python",
      "pygments_lexer": "ipython3",
      "version": "3.7.2"
    }
  },
  "nbformat": 4,
  "nbformat_minor": 0
}